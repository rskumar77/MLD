{
 "cells": [
  {
   "cell_type": "markdown",
   "metadata": {},
   "source": [
    "1.1 Write a Python Program(with class concepts) to find the area of the triangle using the below formula. \n",
    "area = (s*(s-a)*(s-b)*(s-c)) ** 0.5 \n",
    "Function to take the length of the sides of triangle from user should be defined in the parent class and function to calculate the area should be defined in subclass. \n"
   ]
  },
  {
   "cell_type": "code",
   "execution_count": 8,
   "metadata": {},
   "outputs": [
    {
     "name": "stdout",
     "output_type": "stream",
     "text": [
      "Area of Triangle is 6.00\n"
     ]
    }
   ],
   "source": [
    "class Shape:\n",
    "    def __init__(self,a,b,c):\n",
    "        self.a=a\n",
    "        self.b=b\n",
    "        self.c=c\n",
    "        self.sides=[]\n",
    "    def setsides(self):\n",
    "        self.sides = [self.a,self.b,self.c]\n",
    "        return self.sides\n",
    "    \n",
    "    \n",
    "class Triangle(Shape):\n",
    "    def __init__(self,a,b,c):\n",
    "        Shape.__init__(self,a,b,c)\n",
    "        super(Triangle,self).__init__(a,b,c)\n",
    "    def findArea(self):\n",
    "        s=(self.a+self.b+self.c)/2\n",
    "        area = (s*(s-self.a)*(s-self.b)*(s-self.c))**0.5\n",
    "        try:\n",
    "            print('Area of Triangle is %0.2f' %area)\n",
    "        except:\n",
    "            print('Incorrect Entry')\n",
    "\n",
    "t = Triangle(3,4,5)\n",
    "t.findArea()"
   ]
  },
  {
   "cell_type": "markdown",
   "metadata": {},
   "source": [
    "1.2 Write a function filter_long_words() that takes a list of words and an integer n and returns the list of words that are longer than n. "
   ]
  },
  {
   "cell_type": "code",
   "execution_count": 11,
   "metadata": {},
   "outputs": [
    {
     "name": "stdout",
     "output_type": "stream",
     "text": [
      "Type an integer\n",
      "4\n",
      "Words that are greater than 4:\n",
      "sahith\n",
      "rithvik\n"
     ]
    }
   ],
   "source": [
    "list = ['sahith','rithvik','saum']\n",
    "def wordlen(list):\n",
    "    print('Type an integer')\n",
    "    num=int(input())\n",
    "    print('Words that are greater than %d:' %num)\n",
    "    for a in list:\n",
    "        if(len(a)>num):\n",
    "            print(a)\n",
    "  \n",
    "\n",
    "wordlen(list)"
   ]
  },
  {
   "cell_type": "markdown",
   "metadata": {},
   "source": [
    "2.1 Write a Python program using function concept that maps list of words into a list of integers representing the lengths of the corresponding words. \n",
    "Hint: If a list [ ab,cde,erty] is passed on to the python function output should come as [2,3,4] \n",
    "Here 2,3 and 4 are the lengths of the words in the list. \n"
   ]
  },
  {
   "cell_type": "code",
   "execution_count": 12,
   "metadata": {},
   "outputs": [
    {
     "name": "stdout",
     "output_type": "stream",
     "text": [
      "Type words with comma\n",
      "I,am,going,to,play\n",
      "[1, 2, 5, 2, 4]\n"
     ]
    }
   ],
   "source": [
    "\n",
    "def maplst():\n",
    "    print('Type words with comma')\n",
    "    list=[]\n",
    "    length=[]\n",
    "    words=input()\n",
    "    list.append(words.split(','))\n",
    "    for l in list:\n",
    "        for i in l:\n",
    "            length.append(len(i))\n",
    "        print(length)\n",
    "\n",
    "maplst()"
   ]
  },
  {
   "cell_type": "markdown",
   "metadata": {},
   "source": [
    "2.2 Write a Python function which takes a character (i.e. a string of length 1) and returns True if it is a vowel, False otherwise. "
   ]
  },
  {
   "cell_type": "code",
   "execution_count": 14,
   "metadata": {},
   "outputs": [
    {
     "name": "stdout",
     "output_type": "stream",
     "text": [
      "Enter the letter\n",
      "b\n",
      "False\n"
     ]
    }
   ],
   "source": [
    "def idenvowelorcons():\n",
    "    print('Enter the letter')\n",
    "    string=input()\n",
    "    vowels=['a','e','i','o','u']\n",
    "    for v in vowels:\n",
    "        if v==string:\n",
    "            print(True)\n",
    "            break\n",
    "    else:\n",
    "        print(False)\n",
    "\n",
    "idenvowelorcons()\n",
    "        "
   ]
  },
  {
   "cell_type": "code",
   "execution_count": null,
   "metadata": {},
   "outputs": [],
   "source": []
  }
 ],
 "metadata": {
  "kernelspec": {
   "display_name": "Python 3",
   "language": "python",
   "name": "python3"
  },
  "language_info": {
   "codemirror_mode": {
    "name": "ipython",
    "version": 3
   },
   "file_extension": ".py",
   "mimetype": "text/x-python",
   "name": "python",
   "nbconvert_exporter": "python",
   "pygments_lexer": "ipython3",
   "version": "3.6.8"
  }
 },
 "nbformat": 4,
 "nbformat_minor": 2
}
